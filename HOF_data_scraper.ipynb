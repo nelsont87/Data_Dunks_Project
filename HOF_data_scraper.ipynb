{
 "cells": [
  {
   "cell_type": "code",
   "execution_count": 1,
   "metadata": {},
   "outputs": [],
   "source": [
    "from splinter import Browser\n",
    "from bs4 import BeautifulSoup\n",
    "import time\n",
    "import pandas as pd"
   ]
  },
  {
   "cell_type": "code",
   "execution_count": 2,
   "metadata": {},
   "outputs": [],
   "source": [
    "executable_path = {'executable_path': '/usr/local/bin/chromedriver'}\n",
    "browser = Browser('chrome', **executable_path, headless=False)"
   ]
  },
  {
   "cell_type": "code",
   "execution_count": 3,
   "metadata": {},
   "outputs": [],
   "source": [
    "url = 'https://www.basketball-reference.com/'\n",
    "browser.visit(url)"
   ]
  },
  {
   "cell_type": "code",
   "execution_count": 4,
   "metadata": {},
   "outputs": [],
   "source": [
    "hof = ['Clyde Lovellette','Wes Unseld','William Gates','K.C. Jones','Lenny Wilkens','Dave Bing','Elvin Hayes',\n",
    "'Neil Johnston','Earl Monroe','Nate Archibald','Dave Cowens','Harry Gallatin','Sergei Belov','Lusia Harris-Stewart','Connie Hawkins',\n",
    "'Bob Lanier','Nera White','Walt Bellamy','Julius Erving','Dan Issel','Dick McGuire','Ann Meyers','Calvin Murphy','Uļjana Semjonova',\n",
    " 'Bill Walton','Carol Blazejowski','Buddy Jeannette','Kareem Abdul-Jabbar','Anne Donovan','Vern Mikkelsen','Cheryl Miller',\n",
    "'Krešimir Ćosić','George Gervin','Gail Goodrich','Nancy Lieberman','David Thompson','George Yardley','Joan Crawford','Denise Curry',\n",
    " 'Alex English','Bailey Howell','Larry Bird','Marques Haynes','Arnie Risen','Kevin McHale','Bob McAdoo','Isiah Thomas',\n",
    " 'Moses Malone','Magic Johnson','Dražen Petrović','Dino Meneghin','Robert Parish','James Worthy','Dražen Dalipagić',\n",
    " 'Clyde Drexler','Maurice Stokes','Lynette Woodard','Hortencia de Fatima Marcari','Charles Barkley','Joe Dumars','Dominique Wilkins',\n",
    " 'Adrian Dantley','Patrick Ewing','Hakeem Olajuwon','Michael Jordan','David Robinson','John Stockton','Cynthia Cooper-Dyke',\n",
    " 'Dennis Johnson','Gus Johnson','Karl Malone','Ubiratan Pereira Maciel','Scottie Pippen','Dennis Rodman','Chris Mullin',\n",
    " 'Arvydas Sabonis','Artis Gilmore','Teresa Edwards','Goose Tatum','Mel Daniels','Katrina McClain','Reggie Miller','Ralph Sampson',\n",
    " 'Chet Walker','Jamaal Wilkes','Roger Brown','Bernard King','Gary Payton','Richie Guerin','Dawn Staley',\n",
    " 'Šarūnas Marčiulionis','Alonzo Mourning','Mitch Richmond','Guy Rodgers','Louie Dampier','Spencer Haywood','John Isaacs',\n",
    " 'Lisa Leslie','Dikembe Mutombo','Jo Jo White','Yao Ming','Cumberland Posey','Sheryl Swoopes','Zelmo Beaty',\"Shaquille O'Neal\",\n",
    " 'Allen Iverson','Tracy McGrady','Nikos Galis','George McGinnis','Ray Allen','Maurice Cheeks','Grant Hill','Jason Kidd',\n",
    " 'Steve Nash','Katie Smith','Tina Thompson','Ora Mae Washington','Dino Rađa','Charlie Scott','Carl Braun','Chuck Cooper',\n",
    " 'Vlade Divac','Bobby Jones','Sidney Moncrief','Jack Sikma','Teresa Weatherspoon','Paul Westphal']"
   ]
  },
  {
   "cell_type": "code",
   "execution_count": 5,
   "metadata": {},
   "outputs": [
    {
     "name": "stderr",
     "output_type": "stream",
     "text": [
      "/Users/dotcal/anaconda3/envs/PythonDataanalytics/lib/python3.6/site-packages/ipykernel_launcher.py:32: FutureWarning: Sorting because non-concatenation axis is not aligned. A future version\n",
      "of pandas will change to not sort by default.\n",
      "\n",
      "To accept the future behavior, pass 'sort=False'.\n",
      "\n",
      "To retain the current behavior and silence the warning, pass 'sort=True'.\n",
      "\n",
      "/Users/dotcal/anaconda3/envs/PythonDataanalytics/lib/python3.6/site-packages/ipykernel_launcher.py:52: FutureWarning: Sorting because non-concatenation axis is not aligned. A future version\n",
      "of pandas will change to not sort by default.\n",
      "\n",
      "To accept the future behavior, pass 'sort=False'.\n",
      "\n",
      "To retain the current behavior and silence the warning, pass 'sort=True'.\n",
      "\n"
     ]
    }
   ],
   "source": [
    "player_stats = pd.DataFrame()\n",
    "\n",
    "\n",
    "for player in hof:\n",
    "    try:\n",
    "        # fill out player name\n",
    "        browser.find_by_css('.ac-input').first.fill(player)\n",
    "        # click search for player\n",
    "        browser.find_by_value('Search').first.click()\n",
    "        # click link to player for players that come up in search\n",
    "        try:\n",
    "            browser.click_link_by_partial_text(player + \" (\")\n",
    "            html = browser.html\n",
    "            soup = BeautifulSoup(html, 'html.parser')\n",
    "            time.sleep(3)\n",
    "            \n",
    "            # finding the totals table\n",
    "            table_totals = soup.find('div', {'id':'div_totals'})\n",
    "            #create dataframe from totals\n",
    "            df1 = pd.read_html(str(table_totals))[0]\n",
    "            #finding the advanced table data\n",
    "            table_advanced = soup.find('div', {'id' : 'div_advanced'})\n",
    "            # create dataframe from advanced tables\n",
    "            df2 = pd.read_html(str(table_advanced))[0]\n",
    "            # create column with player name\n",
    "            df1['Player'] = player\n",
    "#             df1 = df1.reset_index(drop=True)\n",
    "#             df2 = df2.reset_index(drop=True)\n",
    "            df = pd.merge(df1, df2, on= \"Season\", how = \"left\")\n",
    "\n",
    "#             player_stats.append(df1, ignore_index = True)\n",
    "            player_stats = pd.concat([player_stats, df], ignore_index=True)\n",
    "        except:\n",
    "            html = browser.html\n",
    "            soup = BeautifulSoup(html, 'html.parser')\n",
    "            time.sleep(3)\n",
    "            # finding the totals table\n",
    "            table_totals = soup.find('div', {'id':'div_totals'})\n",
    "            #create dataframe from totals\n",
    "            df1 = pd.read_html(str(table_totals))[0]\n",
    "            #finding the advanced table data\n",
    "            table_advanced = soup.find('div', {'id' : 'div_advanced'})\n",
    "            # create dataframe from advanced tables\n",
    "            df2 = pd.read_html(str(table_advanced))[0]\n",
    "            # create column with player name\n",
    "            df1['Player'] = player\n",
    "#             df1 = df1.reset_index(drop=True)\n",
    "#             df2 = df2.reset_index(drop=True)\n",
    "            df = pd.merge(df1, df2, on= \"Season\", how = \"left\")\n",
    "\n",
    "#             player_stats = player_stats.append(df1, ignore_index = True)\n",
    "            player_stats = pd.concat([player_stats, df], ignore_index=True)\n",
    "    except:\n",
    "        pass\n",
    "    \n",
    "browser.quit()"
   ]
  },
  {
   "cell_type": "code",
   "execution_count": 6,
   "metadata": {},
   "outputs": [],
   "source": [
    "player_stats\n",
    "\n",
    "player_stats.to_csv('HOF_stats.csv', encoding='utf-8')"
   ]
  },
  {
   "cell_type": "code",
   "execution_count": null,
   "metadata": {},
   "outputs": [],
   "source": []
  },
  {
   "cell_type": "code",
   "execution_count": null,
   "metadata": {},
   "outputs": [],
   "source": []
  },
  {
   "cell_type": "code",
   "execution_count": null,
   "metadata": {},
   "outputs": [],
   "source": []
  },
  {
   "cell_type": "code",
   "execution_count": null,
   "metadata": {},
   "outputs": [],
   "source": []
  },
  {
   "cell_type": "code",
   "execution_count": null,
   "metadata": {},
   "outputs": [],
   "source": []
  }
 ],
 "metadata": {
  "kernelspec": {
   "display_name": "Python 3",
   "language": "python",
   "name": "python3"
  },
  "language_info": {
   "codemirror_mode": {
    "name": "ipython",
    "version": 3
   },
   "file_extension": ".py",
   "mimetype": "text/x-python",
   "name": "python",
   "nbconvert_exporter": "python",
   "pygments_lexer": "ipython3",
   "version": "3.6.9"
  }
 },
 "nbformat": 4,
 "nbformat_minor": 2
}
