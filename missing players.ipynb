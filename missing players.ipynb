{
 "cells": [
  {
   "cell_type": "code",
   "execution_count": 1,
   "metadata": {},
   "outputs": [],
   "source": [
    "from splinter import Browser\n",
    "from bs4 import BeautifulSoup\n",
    "import time\n",
    "import pandas as pd\n"
   ]
  },
  {
   "cell_type": "code",
   "execution_count": 2,
   "metadata": {},
   "outputs": [],
   "source": [
    "executable_path = {'executable_path': '/usr/local/bin/chromedriver'}\n",
    "browser = Browser('chrome', **executable_path, headless=False)\n",
    "url = 'https://www.basketball-reference.com/'\n",
    "browser.visit(url)"
   ]
  },
  {
   "cell_type": "code",
   "execution_count": 3,
   "metadata": {},
   "outputs": [],
   "source": [
    "player_list = ['Klay Thompson']"
   ]
  },
  {
   "cell_type": "code",
   "execution_count": 4,
   "metadata": {},
   "outputs": [],
   "source": [
    "player_stats = pd.DataFrame()\n",
    "\n",
    "\n",
    "for player in player_list:\n",
    "    try:\n",
    "        # fill out player name\n",
    "        browser.find_by_css('.ac-input').first.fill(player)\n",
    "        # click search for player\n",
    "        browser.find_by_value('Search').first.click()\n",
    "        # click link to player for players that come up in search\n",
    "        try:\n",
    "            browser.click_link_by_partial_text(player + \" (\")\n",
    "            html = browser.html\n",
    "            soup = BeautifulSoup(html, 'html.parser')\n",
    "            time.sleep(3)\n",
    "            \n",
    "            # finding the totals table\n",
    "            table_totals = soup.find('div', {'id':'div_totals'})\n",
    "            #create dataframe from totals\n",
    "            df1 = pd.read_html(str(table_totals))[0]\n",
    "            #finding the advanced table data\n",
    "            table_advanced = soup.find('div', {'id' : 'div_advanced'})\n",
    "            # create dataframe from advanced tables\n",
    "            df2 = pd.read_html(str(table_advanced))[0]\n",
    "            # create column with player name\n",
    "            df1['Player'] = player\n",
    "#             df1 = df1.reset_index(drop=True)\n",
    "#             df2 = df2.reset_index(drop=True)\n",
    "            df = pd.merge(df1, df2, on= \"Season\", how = \"left\")\n",
    "\n",
    "#             player_stats.append(df1, ignore_index = True)\n",
    "            player_stats = pd.concat([player_stats, df], ignore_index=True)\n",
    "        except:\n",
    "            html = browser.html\n",
    "            soup = BeautifulSoup(html, 'html.parser')\n",
    "            time.sleep(3)\n",
    "            # finding the totals table\n",
    "            table_totals = soup.find('div', {'id':'div_totals'})\n",
    "            #create dataframe from totals\n",
    "            df1 = pd.read_html(str(table_totals))[0]\n",
    "            #finding the advanced table data\n",
    "            table_advanced = soup.find('div', {'id' : 'div_advanced'})\n",
    "            # create dataframe from advanced tables\n",
    "            df2 = pd.read_html(str(table_advanced))[0]\n",
    "            # create column with player name\n",
    "            df1['Player'] = player\n",
    "#             df1 = df1.reset_index(drop=True)\n",
    "#             df2 = df2.reset_index(drop=True)\n",
    "            df = pd.merge(df1, df2, on= \"Season\", how = \"left\")\n",
    "\n",
    "#             player_stats = player_stats.append(df1, ignore_index = True)\n",
    "            player_stats = pd.concat([player_stats, df], ignore_index=True)\n",
    "    except:\n",
    "        pass\n",
    "    \n",
    "browser.quit()"
   ]
  },
  {
   "cell_type": "code",
   "execution_count": 5,
   "metadata": {},
   "outputs": [],
   "source": [
    "player_stats.to_csv('missing.csv', encoding='utf-8')"
   ]
  },
  {
   "cell_type": "code",
   "execution_count": null,
   "metadata": {},
   "outputs": [],
   "source": []
  },
  {
   "cell_type": "code",
   "execution_count": null,
   "metadata": {},
   "outputs": [],
   "source": []
  },
  {
   "cell_type": "code",
   "execution_count": null,
   "metadata": {},
   "outputs": [],
   "source": []
  }
 ],
 "metadata": {
  "kernelspec": {
   "display_name": "Python 3",
   "language": "python",
   "name": "python3"
  },
  "language_info": {
   "codemirror_mode": {
    "name": "ipython",
    "version": 3
   },
   "file_extension": ".py",
   "mimetype": "text/x-python",
   "name": "python",
   "nbconvert_exporter": "python",
   "pygments_lexer": "ipython3",
   "version": "3.6.9"
  }
 },
 "nbformat": 4,
 "nbformat_minor": 2
}
